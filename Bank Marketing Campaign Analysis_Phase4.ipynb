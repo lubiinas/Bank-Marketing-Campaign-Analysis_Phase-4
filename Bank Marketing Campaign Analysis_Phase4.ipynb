{
 "cells": [
  {
   "cell_type": "markdown",
   "id": "e10dd698-121a-44eb-acba-1a4fb10551b4",
   "metadata": {},
   "source": [
    "# Bank Marketing Campaign Analysis"
   ]
  },
  {
   "cell_type": "markdown",
   "id": "0d1d33ae-f93a-49da-8c34-ca8a98aa5e4e",
   "metadata": {},
   "source": [
    "*This project aims to analyze data from a bank marketing campaign to predict customer behavior using machine learning techniques. The dataset contains customer information and details about past marketing efforts.*"
   ]
  },
  {
   "cell_type": "markdown",
   "id": "26d3393d-636d-4e28-bf08-b7f7910bb168",
   "metadata": {},
   "source": [
    "## Objective:\n",
    "*Classification Task: Predict whether a client will subscribe to a term deposit (yes/no).*  \n",
    "*Regression Task: Analyze the impact of numerical features (e.g., balance, duration) on customer behavior.*"
   ]
  },
  {
   "cell_type": "code",
   "execution_count": null,
   "id": "8edc41ef-5ed4-4146-8637-4d394428f158",
   "metadata": {},
   "outputs": [],
   "source": [
    "# Importing Libraries\n",
    "import pandas as pd\n",
    "import numpy as np\n",
    "import matplotlib.pyplot as plt\n",
    "import seaborn as sns\n",
    "from sklearn.model_selection import train_test_split\n",
    "from sklearn.preprocessing import LabelEncoder, StandardScaler\n",
    "from sklearn.ensemble import RandomForestClassifier, RandomForestRegressor\n",
    "from sklearn.metrics import accuracy_score, classification_report, mean_absolute_error, mean_squared_error\n"
   ]
  },
  {
   "cell_type": "markdown",
   "id": "2da756bb-1ed3-4784-a8f8-1ad884037e47",
   "metadata": {},
   "source": [
    "### 1.Load Dataset"
   ]
  },
  {
   "cell_type": "code",
   "execution_count": null,
   "id": "765c18b3-33e2-43df-bf98-eb4dcbfc381b",
   "metadata": {},
   "outputs": [],
   "source": [
    "# Load Excel file\n",
    "df = pd.read_excel(\"C:\\\\Users\\\\AS\\\\Downloads\\\\bank-full.xlsx\")\n",
    "\n",
    "# Display first 5 rows\n",
    "df.head()"
   ]
  },
  {
   "cell_type": "markdown",
   "id": "c57f6f36-11d5-4dff-9153-67e372f12d64",
   "metadata": {},
   "source": [
    "### 2️.Show Dataset Shape (Rows & Columns)"
   ]
  },
  {
   "cell_type": "code",
   "execution_count": null,
   "id": "1fd868eb-80c1-419d-b91b-76650d0b17e6",
   "metadata": {},
   "outputs": [],
   "source": [
    "# Show dataset shape\n",
    "print(\"Dataset Shape:\", df.shape)"
   ]
  },
  {
   "cell_type": "markdown",
   "id": "66d04918-1569-42db-a856-4c2d404be29d",
   "metadata": {},
   "source": [
    "### 3.Describe Statistical Summaries"
   ]
  },
  {
   "cell_type": "code",
   "execution_count": null,
   "id": "217d4899-1192-490c-8bb1-7ab7057f6076",
   "metadata": {},
   "outputs": [],
   "source": [
    "# Describe statistical summaries\n",
    "print(\"Statistical Summary:\\n\", df.describe())"
   ]
  },
  {
   "cell_type": "markdown",
   "id": "4f59b56e-2df3-4cb3-a9ac-8cdb550bb83a",
   "metadata": {},
   "source": [
    "### 4.Check Skewness"
   ]
  },
  {
   "cell_type": "code",
   "execution_count": null,
   "id": "7c48a500-f511-4ddf-bf62-8b6e6c334a50",
   "metadata": {},
   "outputs": [],
   "source": [
    "# Check skewness for numerical columns only\n",
    "numerical_cols = df.select_dtypes(include=[np.number]).columns\n",
    "print(\"Skewness:\\n\", df[numerical_cols].skew())\n"
   ]
  },
  {
   "cell_type": "markdown",
   "id": "6ac7aadf-c107-4c55-a422-9fc01ebdd82d",
   "metadata": {},
   "source": [
    "### 5.Handle Outliers"
   ]
  },
  {
   "cell_type": "markdown",
   "id": "345516f0-88fa-4953-b174-6e695781f0bf",
   "metadata": {},
   "source": [
    "#### A) Identify Outliers using Box Plot"
   ]
  },
  {
   "cell_type": "code",
   "execution_count": null,
   "id": "c203985f-3ad0-4c24-b7e3-290e26275062",
   "metadata": {},
   "outputs": [],
   "source": [
    "# Detect outliers using a box plot\n",
    "plt.figure(figsize=(12,6))\n",
    "sns.boxplot(data=df.select_dtypes(include=[np.number]))\n",
    "plt.xticks(rotation=90)\n",
    "plt.title(\"Box Plot for Outlier Detection\")\n",
    "plt.show()"
   ]
  },
  {
   "cell_type": "markdown",
   "id": "a2c21f96-0d84-486d-8f81-9f899ff5c5dc",
   "metadata": {},
   "source": [
    "#### B) Handle Outliers using IQR Method"
   ]
  },
  {
   "cell_type": "code",
   "execution_count": null,
   "id": "0571ef6e-5f12-40e6-95d6-ce80c665eb88",
   "metadata": {},
   "outputs": [],
   "source": [
    "# Compute IQR (Interquartile Range)\n",
    "Q1 = df[numerical_cols].quantile(0.25)\n",
    "Q3 = df[numerical_cols].quantile(0.75)\n",
    "IQR = Q3 - Q1\n",
    "\n",
    "# Remove outliers beyond 1.5 * IQR\n",
    "df_no_outliers = df[~((df[numerical_cols] < (Q1 - 1.5 * IQR)) | (df[numerical_cols] > (Q3 + 1.5 * IQR))).any(axis=1)]\n",
    "print(f\"Original Shape: {df.shape}, New Shape after Outlier Removal: {df_no_outliers.shape}\")\n"
   ]
  },
  {
   "cell_type": "markdown",
   "id": "68bcf297-6063-48f3-a579-6dfab115a9a6",
   "metadata": {},
   "source": [
    "#### C) Handle Outliers using Capping"
   ]
  },
  {
   "cell_type": "code",
   "execution_count": null,
   "id": "c63bc709-0be4-405f-ac5e-5385b196d7e9",
   "metadata": {},
   "outputs": [],
   "source": [
    "# Define lower and upper percentile limits (5% and 95%)\n",
    "lower_limit = df[numerical_cols].quantile(0.05)\n",
    "upper_limit = df[numerical_cols].quantile(0.95)\n",
    "\n",
    "# Apply capping (clipping) to each column\n",
    "for col in numerical_cols:\n",
    "    df[col] = df[col].clip(lower=lower_limit[col], upper=upper_limit[col])\n",
    "\n",
    "# Verify changes with summary statistics\n",
    "df[numerical_cols].describe()\n"
   ]
  },
  {
   "cell_type": "markdown",
   "id": "6c77fd92-5e28-4bc1-ac6f-614accdcd103",
   "metadata": {},
   "source": [
    "### 6.Check for Missing Values"
   ]
  },
  {
   "cell_type": "code",
   "execution_count": null,
   "id": "0756c3a0-6dfd-4854-bcbe-4b0ed3f17ec9",
   "metadata": {},
   "outputs": [],
   "source": [
    "# Check missing values\n",
    "print(\"Missing Values in Dataset:\\n\", df.isnull().sum())\n"
   ]
  },
  {
   "cell_type": "markdown",
   "id": "b858fdde-c654-4a8f-a6cf-631c444d7bc9",
   "metadata": {},
   "source": [
    "### Convert Categorical Data to Numerical"
   ]
  },
  {
   "cell_type": "code",
   "execution_count": null,
   "id": "c0b9ef87-f1ca-469e-87a7-3c73a738ece1",
   "metadata": {},
   "outputs": [],
   "source": [
    "# Identify categorical and numerical columns\n",
    "categorical_cols = df.select_dtypes(include=['object']).columns\n",
    "numerical_cols = df.select_dtypes(include=['int64', 'float64']).columns\n",
    "\n",
    "print(\"Categorical Columns:\", categorical_cols)\n",
    "print(\"Numerical Columns:\", numerical_cols)\n"
   ]
  },
  {
   "cell_type": "code",
   "execution_count": null,
   "id": "8f5f0d80-d785-4401-bc08-21d01fc8aa10",
   "metadata": {},
   "outputs": [],
   "source": [
    "df.fillna(df.median(numeric_only=True), inplace=True)\n",
    "df.fillna(df.mode().iloc[0], inplace=True)\n"
   ]
  },
  {
   "cell_type": "code",
   "execution_count": null,
   "id": "5270d684-93cb-4990-903d-e74fbc73bbca",
   "metadata": {},
   "outputs": [],
   "source": [
    "print(df.columns)  # Check if column names match\n"
   ]
  },
  {
   "cell_type": "code",
   "execution_count": null,
   "id": "5c64640f-a9ff-429d-a216-9f4ff80ca79a",
   "metadata": {},
   "outputs": [],
   "source": [
    "df.columns = df.columns.str.strip().str.lower()  # Remove spaces and make lowercase\n",
    "print(df.columns)  # Check again\n"
   ]
  },
  {
   "cell_type": "code",
   "execution_count": null,
   "id": "d129cea3-ad55-43ad-bc7e-3f4b8f2f0bdd",
   "metadata": {},
   "outputs": [],
   "source": [
    "print(df.head())  # See current structure\n"
   ]
  },
  {
   "cell_type": "code",
   "execution_count": null,
   "id": "49322a84-8125-4d6d-8bd9-a689531eb02d",
   "metadata": {},
   "outputs": [],
   "source": [
    "# Identify categorical columns correctly\n",
    "categorical_cols = df.select_dtypes(include=['object']).columns\n",
    "\n",
    "# Apply One-Hot Encoding only to existing columns\n",
    "df = pd.get_dummies(df, columns=categorical_cols, drop_first=True)\n",
    "\n",
    "print(\"Categorical columns successfully encoded!\")\n"
   ]
  },
  {
   "cell_type": "markdown",
   "id": "0ba5f00c-a0e5-4fb6-bec3-c5ef6422cafa",
   "metadata": {},
   "source": [
    "### 7. Feature Scaling"
   ]
  },
  {
   "cell_type": "code",
   "execution_count": null,
   "id": "beac0283-2db9-4635-87fc-3bc9f0c43751",
   "metadata": {},
   "outputs": [],
   "source": [
    "# Initialize the scaler\n",
    "scaler = StandardScaler()\n",
    "\n",
    "# Apply scaling to numerical features\n",
    "df[numerical_cols] = scaler.fit_transform(df[numerical_cols])\n",
    "\n",
    "print(\"Numerical columns successfully scaled!\")\n",
    "df.head()"
   ]
  },
  {
   "cell_type": "code",
   "execution_count": null,
   "id": "970d01f9-6769-4d09-96de-213306b98845",
   "metadata": {},
   "outputs": [],
   "source": [
    "# Save the preprocessed dataset\n",
    "df.to_csv(\"C:\\\\Users\\\\AS\\\\Downloads\\\\bank-full-processed.csv\", index=False)\n",
    "print(\"\\n✅ Data Preprocessing Completed! File Saved as 'bank-full-processed.csv'\")"
   ]
  },
  {
   "cell_type": "code",
   "execution_count": null,
   "id": "20f879e3-cae9-4053-a0b1-3c6255019571",
   "metadata": {},
   "outputs": [],
   "source": [
    "#  Load the preprocessed dataset\n",
    "df = pd.read_csv(\"C:\\\\Users\\\\AS\\\\Downloads\\\\bank-full-processed.csv\")\n",
    "df.head()"
   ]
  },
  {
   "cell_type": "markdown",
   "id": "39d4176f-819b-4707-99c5-e1c1848ec002",
   "metadata": {},
   "source": [
    "## ➤ Classification"
   ]
  },
  {
   "cell_type": "code",
   "execution_count": null,
   "id": "050dba65-a600-45dd-aa7e-8bdec764f4fb",
   "metadata": {},
   "outputs": [],
   "source": [
    "\n",
    "X_class = df.drop(columns=['y_yes'])\n",
    "y_class = df['y_yes']\n"
   ]
  },
  {
   "cell_type": "code",
   "execution_count": null,
   "id": "9e3e5503-4992-48b5-a4f0-1928cb0c5d25",
   "metadata": {},
   "outputs": [],
   "source": [
    "# Feature Importance\n",
    "clf_fs = RandomForestClassifier(n_estimators=100, random_state=42)\n",
    "clf_fs.fit(X_class, y_class)\n",
    "important_class_feats = pd.Series(clf_fs.feature_importances_, index=X_class.columns).sort_values(ascending=False).head(10)\n"
   ]
  },
  {
   "cell_type": "code",
   "execution_count": null,
   "id": "7c1d6eb3-771c-43dc-aa97-6855f0dca5f5",
   "metadata": {},
   "outputs": [],
   "source": [
    "# Train/Test split\n",
    "X_train, X_test, y_train, y_test = train_test_split(df[important_class_feats.index], y_class, test_size=0.2, random_state=42)\n",
    "clf = RandomForestClassifier(n_estimators=100, random_state=42)\n",
    "clf.fit(X_train, y_train)\n",
    "y_pred = clf.predict(X_test)"
   ]
  },
  {
   "cell_type": "code",
   "execution_count": null,
   "id": "9e2e5058-210c-4e49-8867-b5e62ac9c67e",
   "metadata": {},
   "outputs": [],
   "source": [
    "print(\"✅ Classification Accuracy:\", accuracy_score(y_test, y_pred))\n",
    "print(\"🔹 Classification Report:\\n\", classification_report(y_test, y_pred))"
   ]
  },
  {
   "cell_type": "markdown",
   "id": "cbcc84aa-25ba-41a1-a2f7-7811a613c7e3",
   "metadata": {},
   "source": [
    "## ➤ Regression"
   ]
  },
  {
   "cell_type": "code",
   "execution_count": null,
   "id": "6d90081f-48f4-4c7d-8e9b-082e228885c5",
   "metadata": {},
   "outputs": [],
   "source": [
    "\n",
    "X_reg = df.drop(columns=['balance'])\n",
    "y_reg = df['balance']\n",
    "reg_fs = RandomForestRegressor(n_estimators=100, random_state=42)\n",
    "reg_fs.fit(X_reg, y_reg)\n",
    "important_reg_feats = pd.Series(reg_fs.feature_importances_, index=X_reg.columns).sort_values(ascending=False).head(10)\n",
    "\n"
   ]
  },
  {
   "cell_type": "code",
   "execution_count": null,
   "id": "61cf7b2e-7375-4e43-a43d-a1b022f0c293",
   "metadata": {},
   "outputs": [],
   "source": [
    "# Train/Test split\n",
    "X_train_r, X_test_r, y_train_r, y_test_r = train_test_split(df[important_reg_feats.index], y_reg, test_size=0.2, random_state=42)\n",
    "reg = RandomForestRegressor(n_estimators=100, random_state=42)\n",
    "reg.fit(X_train_r, y_train_r)\n",
    "y_pred_r = reg.predict(X_test_r)"
   ]
  },
  {
   "cell_type": "code",
   "execution_count": null,
   "id": "240d1abe-e067-466b-9bee-38e777ace28b",
   "metadata": {},
   "outputs": [],
   "source": [
    "print(\"\\n✅ Regression Performance:\")\n",
    "print(\"🔹 MAE:\", mean_absolute_error(y_test_r, y_pred_r))\n",
    "print(\"🔹 MSE:\", mean_squared_error(y_test_r, y_pred_r))\n"
   ]
  },
  {
   "cell_type": "code",
   "execution_count": 148,
   "id": "af85cb0c-9953-4252-ac86-9cf51d153534",
   "metadata": {},
   "outputs": [
    {
     "name": "stdout",
     "output_type": "stream",
     "text": [
      "Best Classifier Params: {'max_depth': 10, 'n_estimators': 100}\n"
     ]
    },
    {
     "data": {
      "text/plain": [
       "<sklearn.metrics._plot.confusion_matrix.ConfusionMatrixDisplay at 0x16710dc6630>"
      ]
     },
     "execution_count": 148,
     "metadata": {},
     "output_type": "execute_result"
    },
    {
     "data": {
      "image/png": "[encoded data removed]",
      "text/plain": [
       "<Figure size 640x480 with 2 Axes>"
      ]
     },
     "metadata": {},
     "output_type": "display_data"
    }
   ],
   "source": [
    "from sklearn.model_selection import GridSearchCV\n",
    "from sklearn.metrics import confusion_matrix, ConfusionMatrixDisplay, r2_score\n",
    "\n",
    "# Grid Search for Classifier\n",
    "param_grid = {'n_estimators': [100, 150], 'max_depth': [None, 10, 20]}\n",
    "grid_clf = GridSearchCV(RandomForestClassifier(random_state=42), param_grid, cv=5)\n",
    "grid_clf.fit(X_train, y_train)\n",
    "\n",
    "print(\"Best Classifier Params:\", grid_clf.best_params_)\n",
    "best_clf = grid_clf.best_estimator_\n",
    "\n",
    "cm = confusion_matrix(y_test, best_clf.predict(X_test))\n",
    "ConfusionMatrixDisplay(cm).plot()\n"
   ]
  },
  {
   "cell_type": "code",
   "execution_count": 153,
   "id": "b4fbd39e-50f2-40b7-b17c-550885cae4ca",
   "metadata": {},
   "outputs": [
    {
     "name": "stdout",
     "output_type": "stream",
     "text": [
      "Best Regressor Params: {'max_depth': 10, 'n_estimators': 150}\n",
      "R² Score: 0.05923982384149862\n"
     ]
    }
   ],
   "source": [
    "# Grid Search for Regressor\n",
    "grid_reg = GridSearchCV(RandomForestRegressor(random_state=42), param_grid, cv=5)\n",
    "grid_reg.fit(X_train_r, y_train_r)\n",
    "print(\"Best Regressor Params:\", grid_reg.best_params_)\n",
    "\n",
    "best_reg = grid_reg.best_estimator_\n",
    "y_best_pred_r = best_reg.predict(X_test_r)\n",
    "print(\"R² Score:\", r2_score(y_test_r, y_best_pred_r))"
   ]
  },
  {
   "cell_type": "code",
   "execution_count": 155,
   "id": "147db164-ffdd-40ee-b1c5-76b8e12ee61e",
   "metadata": {},
   "outputs": [
    {
     "name": "stdout",
     "output_type": "stream",
     "text": [
      "✅ Models saved successfully!\n"
     ]
    }
   ],
   "source": [
    "import joblib\n",
    "\n",
    "joblib.dump(best_clf, 'best_classifier_model.pkl')\n",
    "joblib.dump(best_reg, 'best_regressor_model.pkl')\n",
    "\n",
    "print(\"✅ Models saved successfully!\")\n"
   ]
  }
 ],
 "metadata": {
  "kernelspec": {
   "display_name": "Python 3 (ipykernel)",
   "language": "python",
   "name": "python3"
  },
  "language_info": {
   "codemirror_mode": {
    "name": "ipython",
    "version": 3
   },
   "file_extension": ".py",
   "mimetype": "text/x-python",
   "name": "python",
   "nbconvert_exporter": "python",
   "pygments_lexer": "ipython3",
   "version": "3.12.7"
  }
 },
 "nbformat": 4,
 "nbformat_minor": 5
}
